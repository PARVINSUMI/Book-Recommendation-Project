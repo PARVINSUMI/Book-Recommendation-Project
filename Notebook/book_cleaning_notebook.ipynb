{
 "cells": [
  {
   "cell_type": "code",
   "execution_count": 4,
   "id": "d9988def-f05d-4b7d-8ffd-96cc7ca1e35e",
   "metadata": {},
   "outputs": [
    {
     "data": {
      "text/html": [
       "<div>\n",
       "<style scoped>\n",
       "    .dataframe tbody tr th:only-of-type {\n",
       "        vertical-align: middle;\n",
       "    }\n",
       "\n",
       "    .dataframe tbody tr th {\n",
       "        vertical-align: top;\n",
       "    }\n",
       "\n",
       "    .dataframe thead th {\n",
       "        text-align: right;\n",
       "    }\n",
       "</style>\n",
       "<table border=\"1\" class=\"dataframe\">\n",
       "  <thead>\n",
       "    <tr style=\"text-align: right;\">\n",
       "      <th></th>\n",
       "      <th>Title</th>\n",
       "      <th>Author</th>\n",
       "      <th>Rating</th>\n",
       "    </tr>\n",
       "  </thead>\n",
       "  <tbody>\n",
       "    <tr>\n",
       "      <th>0</th>\n",
       "      <td>The Hunger Games (The Hunger Games, #1)</td>\n",
       "      <td>Suzanne Collins</td>\n",
       "      <td>4.35 avg rating — 9,638,928 ratings</td>\n",
       "    </tr>\n",
       "    <tr>\n",
       "      <th>1</th>\n",
       "      <td>Pride and Prejudice</td>\n",
       "      <td>Jane Austen</td>\n",
       "      <td>4.29 avg rating — 4,657,406 ratings</td>\n",
       "    </tr>\n",
       "    <tr>\n",
       "      <th>2</th>\n",
       "      <td>To Kill a Mockingbird</td>\n",
       "      <td>Harper Lee</td>\n",
       "      <td>4.26 avg rating — 6,714,763 ratings</td>\n",
       "    </tr>\n",
       "    <tr>\n",
       "      <th>3</th>\n",
       "      <td>Harry Potter and the Order of the Phoenix (Har...</td>\n",
       "      <td>J.K. Rowling</td>\n",
       "      <td>4.50 avg rating — 3,705,625 ratings</td>\n",
       "    </tr>\n",
       "    <tr>\n",
       "      <th>4</th>\n",
       "      <td>The Book Thief</td>\n",
       "      <td>Markus Zusak</td>\n",
       "      <td>4.39 avg rating — 2,812,521 ratings</td>\n",
       "    </tr>\n",
       "  </tbody>\n",
       "</table>\n",
       "</div>"
      ],
      "text/plain": [
       "                                               Title           Author  \\\n",
       "0            The Hunger Games (The Hunger Games, #1)  Suzanne Collins   \n",
       "1                                Pride and Prejudice      Jane Austen   \n",
       "2                              To Kill a Mockingbird       Harper Lee   \n",
       "3  Harry Potter and the Order of the Phoenix (Har...     J.K. Rowling   \n",
       "4                                     The Book Thief     Markus Zusak   \n",
       "\n",
       "                                Rating  \n",
       "0  4.35 avg rating — 9,638,928 ratings  \n",
       "1  4.29 avg rating — 4,657,406 ratings  \n",
       "2  4.26 avg rating — 6,714,763 ratings  \n",
       "3  4.50 avg rating — 3,705,625 ratings  \n",
       "4  4.39 avg rating — 2,812,521 ratings  "
      ]
     },
     "execution_count": 4,
     "metadata": {},
     "output_type": "execute_result"
    }
   ],
   "source": [
    "import pandas as pd\n",
    "import numpy as np\n",
    "df1 = pd.read_csv(\"goodreads_books.csv\")\n",
    "df1.head()"
   ]
  },
  {
   "cell_type": "code",
   "execution_count": null,
   "id": "52a79bbc-f974-46d8-b4cd-ba2138a6ef5d",
   "metadata": {},
   "outputs": [],
   "source": [
    "import pandas as pd\n",
    "import re\n",
    "\n",
    "# 1. Load the data from the CSV file\n",
    "# This replaces the raw_data string and now reads from your uploaded file.\n",
    "try:\n",
    "    df1 = pd.read_csv('goodreads_books.csv')\n",
    "    print(\"----------- Original Data (first 5 rows) -----------\")\n",
    "    print(df1.head())\n",
    "    print(\"\\n\" + \"=\"*40 + \"\\n\")\n",
    "except FileNotFoundError:\n",
    "    print(\"Error: 'goodreads_books.csv' not found.\")\n",
    "    print(\"Please make sure the CSV file is in the same directory as the script.\")\n",
    "    exit()\n",
    "\n",
    "\n",
    "# 2. Clean the 'Rating' column\n",
    "# -----------------------------------------------------------------\n",
    "# Split the 'Rating' column into two new columns: 'avg_rating' and 'num_ratings'\n",
    "# The expand=True argument creates new columns from the split strings.\n",
    "df1[['avg_rating', 'num_ratings']] = df1['Rating'].str.split('—', expand=True)\n",
    "\n",
    "# From the 'avg_rating' column, extract only the digits and the decimal point.\n",
    "df1['avg_rating'] = df1['avg_rating'].str.extract(r'(\\d+\\.\\d+)').astype(float)\n",
    "\n",
    "# From the 'num_ratings' column, remove commas and then extract only the digits.\n",
    "df1['num_ratings'] = df1['num_ratings'].str.replace(',', '').str.extract(r'(\\d+)').astype(int)\n",
    "\n",
    "\n",
    "# 3. Clean the 'Title' column\n",
    "# -----------------------------------------------------------------\n",
    "# Use .str.extract() to pull the text inside parentheses into a new 'Series' column.\n",
    "# The regex looks for a pattern starting with '(' and ending with ')'.\n",
    "df1['Series'] = df1['Title'].str.extract(r'\\((.*)\\)')\n",
    "\n",
    "# Use .str.replace() to remove the series part (and any trailing space) from the 'Title'.\n",
    "# The regex looks for a space followed by parentheses containing any characters.\n",
    "df1['Title'] = df1['Title'].str.replace(r'\\s*\\(.*\\)', '', regex=True)\n",
    "\n",
    "\n",
    "# 4. Finalize the DataFrame\n",
    "# -----------------------------------------------------------------\n",
    "# Drop the original, messy 'Rating' column as it's no longer needed.\n",
    "df1 = df1.drop(columns=['Rating'])\n",
    "\n",
    "# Reorder the columns for better readability\n",
    "df1 = df1[['Title', 'Author', 'avg_rating', 'num_ratings', 'Series']]\n",
    "\n",
    "\n",
    "print(\"----------- Cleaned Data (first 5 rows) -----------\")\n",
    "print(df1.head())\n",
    "\n",
    "# Display data types to confirm they were converted correctly\n",
    "print(\"\\n----------- Data Types -----------\")\n",
    "print(df1.info())\n"
   ]
  },
  {
   "cell_type": "code",
   "execution_count": null,
   "id": "641061d7-c3b2-4c63-bcb5-c2d173e41ce4",
   "metadata": {},
   "outputs": [],
   "source": [
    "df1.head()"
   ]
  },
  {
   "cell_type": "code",
   "execution_count": null,
   "id": "ae425da1-d9e8-42de-aa58-bdca6226ed0b",
   "metadata": {},
   "outputs": [],
   "source": [
    "df1.shape"
   ]
  },
  {
   "cell_type": "code",
   "execution_count": null,
   "id": "673938e5-d029-4cca-a21c-12f4dae76fef",
   "metadata": {},
   "outputs": [],
   "source": [
    "df2 = pd.read_csv('google_books.csv')\n",
    "df2.head(5)"
   ]
  },
  {
   "cell_type": "code",
   "execution_count": null,
   "id": "a9fa2b6c-2245-48ea-89e8-5032e346ff92",
   "metadata": {},
   "outputs": [],
   "source": []
  },
  {
   "cell_type": "code",
   "execution_count": 20,
   "id": "d916e51a-0620-4913-b840-e2e52d324c56",
   "metadata": {},
   "outputs": [
    {
     "data": {
      "text/plain": [
       "(1000, 11)"
      ]
     },
     "execution_count": 20,
     "metadata": {},
     "output_type": "execute_result"
    }
   ],
   "source": [
    "df2.shape"
   ]
  },
  {
   "cell_type": "code",
   "execution_count": 2,
   "id": "ddc53f67-d995-4f77-92c4-4a5e467ae696",
   "metadata": {},
   "outputs": [
    {
     "name": "stdout",
     "output_type": "stream",
     "text": [
      "----------- Original Data (first 5 rows) -----------\n",
      "             id                                              title  \\\n",
      "0  mETODwAAQBAJ                      Das Science Fiction Jahr 2019   \n",
      "1  PRElEQAAQBAJ                      Das Science Fiction Jahr 2024   \n",
      "2  HgNPEQAAQBAJ  Das Rätsel der Kalythar und 10 weitere Science...   \n",
      "3  izjmEAAAQBAJ      Auf zwei Planeten (Science-Fiction Klassiker)   \n",
      "4  c1zZEAAAQBAJ        4 Science Fiction Abenteuer Sonderband 1002   \n",
      "\n",
      "                                             authors      publisher  \\\n",
      "0                   Melanie Wylutzki, Hardy Kettlitz       Hirnkost   \n",
      "1  Judith Vogt, Christian Vogt, Dietmar Dath, Len...       Hirnkost   \n",
      "2                                      Alfred Bekker  Uksak E-Books   \n",
      "3                                       Kurd Laßwitz     Good Press   \n",
      "4  Alfred Bekker, David Wright O'Brien, Manfred W...  Uksak E-Books   \n",
      "\n",
      "  publishedDate categories  averageRating  ratingsCount  pageCount language  \\\n",
      "0    2020-02-06    Fiction            NaN           NaN      743.0       de   \n",
      "1    2024-10-03    Fiction            NaN           NaN      592.0       de   \n",
      "2    2025-03-17    Fiction            NaN           NaN      902.0       de   \n",
      "3    2024-01-02    Fiction            NaN           NaN      758.0       de   \n",
      "4    2023-06-10    Fiction            NaN           NaN      568.0       de   \n",
      "\n",
      "                                         description  \n",
      "0  Auf posthumanistischen Wegen – der Rundgang du...  \n",
      "1  Ob ernsthafte Bedrohung oder Chance für die Me...  \n",
      "2  Dieser Band enthält folgende Geschichten: Alfr...  \n",
      "3  In \"Auf zwei Planeten\" entführt Kurd Laßwitz d...  \n",
      "4  Dieser Band enthält folgende Romane: Der Held ...  \n",
      "\n",
      "========================================\n",
      "\n",
      "----------- Cleaned Data (first 5 rows) -----------\n",
      "                                               title  \\\n",
      "0                      Das Science Fiction Jahr 2019   \n",
      "1                      Das Science Fiction Jahr 2024   \n",
      "2  Das Rätsel der Kalythar und 10 weitere Science...   \n",
      "3                                  Auf zwei Planeten   \n",
      "4        4 Science Fiction Abenteuer Sonderband 1002   \n",
      "\n",
      "                                             authors  num_authors  \\\n",
      "0                   Melanie Wylutzki, Hardy Kettlitz            2   \n",
      "1  Judith Vogt, Christian Vogt, Dietmar Dath, Len...           38   \n",
      "2                                      Alfred Bekker            1   \n",
      "3                                       Kurd Laßwitz            1   \n",
      "4  Alfred Bekker, David Wright O'Brien, Manfred W...            4   \n",
      "\n",
      "       publisher  year categories  averageRating  ratingsCount  pageCount  \\\n",
      "0       Hirnkost  2020    Fiction            0.0             0        743   \n",
      "1       Hirnkost  2024    Fiction            0.0             0        592   \n",
      "2  Uksak E-Books  2025    Fiction            0.0             0        902   \n",
      "3     Good Press  2024    Fiction            0.0             0        758   \n",
      "4  Uksak E-Books  2023    Fiction            0.0             0        568   \n",
      "\n",
      "  language                     Series  \\\n",
      "0       de                        NaN   \n",
      "1       de                        NaN   \n",
      "2       de                        NaN   \n",
      "3       de  Science-Fiction Klassiker   \n",
      "4       de                        NaN   \n",
      "\n",
      "                                         description  \n",
      "0  Auf posthumanistischen Wegen – der Rundgang du...  \n",
      "1  Ob ernsthafte Bedrohung oder Chance für die Me...  \n",
      "2  Dieser Band enthält folgende Geschichten: Alfr...  \n",
      "3  In \"Auf zwei Planeten\" entführt Kurd Laßwitz d...  \n",
      "4  Dieser Band enthält folgende Romane: Der Held ...  \n",
      "\n",
      "----------- Data Types -----------\n",
      "<class 'pandas.core.frame.DataFrame'>\n",
      "RangeIndex: 1000 entries, 0 to 999\n",
      "Data columns (total 12 columns):\n",
      " #   Column         Non-Null Count  Dtype  \n",
      "---  ------         --------------  -----  \n",
      " 0   title          999 non-null    object \n",
      " 1   authors        1000 non-null   object \n",
      " 2   num_authors    1000 non-null   int64  \n",
      " 3   publisher      361 non-null    object \n",
      " 4   year           1000 non-null   int64  \n",
      " 5   categories     1000 non-null   object \n",
      " 6   averageRating  1000 non-null   float64\n",
      " 7   ratingsCount   1000 non-null   int64  \n",
      " 8   pageCount      1000 non-null   int64  \n",
      " 9   language       1000 non-null   object \n",
      " 10  Series         23 non-null     object \n",
      " 11  description    454 non-null    object \n",
      "dtypes: float64(1), int64(4), object(7)\n",
      "memory usage: 93.9+ KB\n",
      "None\n"
     ]
    }
   ],
   "source": [
    "import pandas as pd\n",
    "import re\n",
    "\n",
    "# 1. Load the Google Books data\n",
    "df2 = pd.read_csv(\"google_books.csv\")\n",
    "\n",
    "print(\"----------- Original Data (first 5 rows) -----------\")\n",
    "print(df2.head())\n",
    "print(\"\\n\" + \"=\"*40 + \"\\n\")\n",
    "\n",
    "# 2. Clean numerical columns\n",
    "# -----------------------------------------------------------------\n",
    "# Ensure ratings and counts are numeric (fill NaN with 0)\n",
    "df2[\"averageRating\"] = pd.to_numeric(df2[\"averageRating\"], errors=\"coerce\").fillna(0)\n",
    "df2[\"ratingsCount\"] = pd.to_numeric(df2[\"ratingsCount\"], errors=\"coerce\").fillna(0).astype(int)\n",
    "\n",
    "# Clean pageCount (replace NaN with 0)\n",
    "df2[\"pageCount\"] = pd.to_numeric(df2[\"pageCount\"], errors=\"coerce\").fillna(0).astype(int)\n",
    "\n",
    "# 3. Clean the 'title' column\n",
    "# -----------------------------------------------------------------\n",
    "# Extract series info in parentheses, similar to Goodreads cleaning\n",
    "df2[\"Series\"] = df2[\"title\"].str.extract(r\"\\((.*)\\)\")\n",
    "\n",
    "# Remove the series part from the main title\n",
    "df2[\"title\"] = df2[\"title\"].str.replace(r\"\\s*\\(.*\\)\", \"\", regex=True)\n",
    "\n",
    "# Strip whitespace\n",
    "df2[\"title\"] = df2[\"title\"].str.strip()\n",
    "\n",
    "# 4. Clean 'authors'\n",
    "# -----------------------------------------------------------------\n",
    "# Normalize multiple authors into a clean list (keep as string for now)\n",
    "df2[\"authors\"] = df2[\"authors\"].fillna(\"\").apply(lambda x: \", \".join([a.strip() for a in str(x).split(\",\") if a.strip()]))\n",
    "\n",
    "# Count number of authors\n",
    "df2[\"num_authors\"] = df2[\"authors\"].apply(lambda x: len(x.split(\",\")) if x else 0)\n",
    "\n",
    "# 5. Clean 'categories'\n",
    "# -----------------------------------------------------------------\n",
    "df2[\"categories\"] = df2[\"categories\"].fillna(\"\").apply(lambda x: \", \".join([c.strip() for c in str(x).split(\",\") if c.strip()]))\n",
    "\n",
    "# 6. Dates\n",
    "# -----------------------------------------------------------------\n",
    "# Convert publishedDate to datetime, then extract year\n",
    "df2[\"publishedDate\"] = pd.to_datetime(df2[\"publishedDate\"], errors=\"coerce\")\n",
    "df2[\"year\"] = df2[\"publishedDate\"].dt.year.fillna(0).astype(int)\n",
    "\n",
    "# 7. Finalize cleaned DataFrame\n",
    "# -----------------------------------------------------------------\n",
    "# Select relevant, clean columns\n",
    "df2 = df2[[\n",
    "    \"title\", \"authors\", \"num_authors\", \"publisher\",\n",
    "    \"year\", \"categories\", \"averageRating\", \"ratingsCount\",\n",
    "    \"pageCount\", \"language\", \"Series\", \"description\"\n",
    "]]\n",
    "\n",
    "print(\"----------- Cleaned Data (first 5 rows) -----------\")\n",
    "print(df2.head())\n",
    "\n",
    "print(\"\\n----------- Data Types -----------\")\n",
    "print(df2.info())\n"
   ]
  },
  {
   "cell_type": "code",
   "execution_count": 3,
   "id": "ec47f9d4-b7c4-4ad8-a560-b172d7ee50a1",
   "metadata": {},
   "outputs": [
    {
     "data": {
      "text/html": [
       "<div>\n",
       "<style scoped>\n",
       "    .dataframe tbody tr th:only-of-type {\n",
       "        vertical-align: middle;\n",
       "    }\n",
       "\n",
       "    .dataframe tbody tr th {\n",
       "        vertical-align: top;\n",
       "    }\n",
       "\n",
       "    .dataframe thead th {\n",
       "        text-align: right;\n",
       "    }\n",
       "</style>\n",
       "<table border=\"1\" class=\"dataframe\">\n",
       "  <thead>\n",
       "    <tr style=\"text-align: right;\">\n",
       "      <th></th>\n",
       "      <th>title</th>\n",
       "      <th>authors</th>\n",
       "      <th>num_authors</th>\n",
       "      <th>publisher</th>\n",
       "      <th>year</th>\n",
       "      <th>categories</th>\n",
       "      <th>averageRating</th>\n",
       "      <th>ratingsCount</th>\n",
       "      <th>pageCount</th>\n",
       "      <th>language</th>\n",
       "      <th>Series</th>\n",
       "      <th>description</th>\n",
       "    </tr>\n",
       "  </thead>\n",
       "  <tbody>\n",
       "    <tr>\n",
       "      <th>0</th>\n",
       "      <td>Das Science Fiction Jahr 2019</td>\n",
       "      <td>Melanie Wylutzki, Hardy Kettlitz</td>\n",
       "      <td>2</td>\n",
       "      <td>Hirnkost</td>\n",
       "      <td>2020</td>\n",
       "      <td>Fiction</td>\n",
       "      <td>0.0</td>\n",
       "      <td>0</td>\n",
       "      <td>743</td>\n",
       "      <td>de</td>\n",
       "      <td>NaN</td>\n",
       "      <td>Auf posthumanistischen Wegen – der Rundgang du...</td>\n",
       "    </tr>\n",
       "    <tr>\n",
       "      <th>1</th>\n",
       "      <td>Das Science Fiction Jahr 2024</td>\n",
       "      <td>Judith Vogt, Christian Vogt, Dietmar Dath, Len...</td>\n",
       "      <td>38</td>\n",
       "      <td>Hirnkost</td>\n",
       "      <td>2024</td>\n",
       "      <td>Fiction</td>\n",
       "      <td>0.0</td>\n",
       "      <td>0</td>\n",
       "      <td>592</td>\n",
       "      <td>de</td>\n",
       "      <td>NaN</td>\n",
       "      <td>Ob ernsthafte Bedrohung oder Chance für die Me...</td>\n",
       "    </tr>\n",
       "    <tr>\n",
       "      <th>2</th>\n",
       "      <td>Das Rätsel der Kalythar und 10 weitere Science...</td>\n",
       "      <td>Alfred Bekker</td>\n",
       "      <td>1</td>\n",
       "      <td>Uksak E-Books</td>\n",
       "      <td>2025</td>\n",
       "      <td>Fiction</td>\n",
       "      <td>0.0</td>\n",
       "      <td>0</td>\n",
       "      <td>902</td>\n",
       "      <td>de</td>\n",
       "      <td>NaN</td>\n",
       "      <td>Dieser Band enthält folgende Geschichten: Alfr...</td>\n",
       "    </tr>\n",
       "    <tr>\n",
       "      <th>3</th>\n",
       "      <td>Auf zwei Planeten</td>\n",
       "      <td>Kurd Laßwitz</td>\n",
       "      <td>1</td>\n",
       "      <td>Good Press</td>\n",
       "      <td>2024</td>\n",
       "      <td>Fiction</td>\n",
       "      <td>0.0</td>\n",
       "      <td>0</td>\n",
       "      <td>758</td>\n",
       "      <td>de</td>\n",
       "      <td>Science-Fiction Klassiker</td>\n",
       "      <td>In \"Auf zwei Planeten\" entführt Kurd Laßwitz d...</td>\n",
       "    </tr>\n",
       "    <tr>\n",
       "      <th>4</th>\n",
       "      <td>4 Science Fiction Abenteuer Sonderband 1002</td>\n",
       "      <td>Alfred Bekker, David Wright O'Brien, Manfred W...</td>\n",
       "      <td>4</td>\n",
       "      <td>Uksak E-Books</td>\n",
       "      <td>2023</td>\n",
       "      <td>Fiction</td>\n",
       "      <td>0.0</td>\n",
       "      <td>0</td>\n",
       "      <td>568</td>\n",
       "      <td>de</td>\n",
       "      <td>NaN</td>\n",
       "      <td>Dieser Band enthält folgende Romane: Der Held ...</td>\n",
       "    </tr>\n",
       "  </tbody>\n",
       "</table>\n",
       "</div>"
      ],
      "text/plain": [
       "                                               title  \\\n",
       "0                      Das Science Fiction Jahr 2019   \n",
       "1                      Das Science Fiction Jahr 2024   \n",
       "2  Das Rätsel der Kalythar und 10 weitere Science...   \n",
       "3                                  Auf zwei Planeten   \n",
       "4        4 Science Fiction Abenteuer Sonderband 1002   \n",
       "\n",
       "                                             authors  num_authors  \\\n",
       "0                   Melanie Wylutzki, Hardy Kettlitz            2   \n",
       "1  Judith Vogt, Christian Vogt, Dietmar Dath, Len...           38   \n",
       "2                                      Alfred Bekker            1   \n",
       "3                                       Kurd Laßwitz            1   \n",
       "4  Alfred Bekker, David Wright O'Brien, Manfred W...            4   \n",
       "\n",
       "       publisher  year categories  averageRating  ratingsCount  pageCount  \\\n",
       "0       Hirnkost  2020    Fiction            0.0             0        743   \n",
       "1       Hirnkost  2024    Fiction            0.0             0        592   \n",
       "2  Uksak E-Books  2025    Fiction            0.0             0        902   \n",
       "3     Good Press  2024    Fiction            0.0             0        758   \n",
       "4  Uksak E-Books  2023    Fiction            0.0             0        568   \n",
       "\n",
       "  language                     Series  \\\n",
       "0       de                        NaN   \n",
       "1       de                        NaN   \n",
       "2       de                        NaN   \n",
       "3       de  Science-Fiction Klassiker   \n",
       "4       de                        NaN   \n",
       "\n",
       "                                         description  \n",
       "0  Auf posthumanistischen Wegen – der Rundgang du...  \n",
       "1  Ob ernsthafte Bedrohung oder Chance für die Me...  \n",
       "2  Dieser Band enthält folgende Geschichten: Alfr...  \n",
       "3  In \"Auf zwei Planeten\" entführt Kurd Laßwitz d...  \n",
       "4  Dieser Band enthält folgende Romane: Der Held ...  "
      ]
     },
     "execution_count": 3,
     "metadata": {},
     "output_type": "execute_result"
    }
   ],
   "source": [
    "df2.head()"
   ]
  },
  {
   "cell_type": "code",
   "execution_count": 33,
   "id": "2540c261-9dcd-4be2-8cfb-d45eeae47793",
   "metadata": {},
   "outputs": [
    {
     "data": {
      "text/plain": [
       "(1000, 12)"
      ]
     },
     "execution_count": 33,
     "metadata": {},
     "output_type": "execute_result"
    }
   ],
   "source": [
    "df2.shape"
   ]
  },
  {
   "cell_type": "code",
   "execution_count": 34,
   "id": "f838ced2-90e4-42d2-8329-855d2039468d",
   "metadata": {},
   "outputs": [
    {
     "data": {
      "text/plain": [
       "Index(['title', 'authors', 'num_authors', 'publisher', 'year', 'categories',\n",
       "       'averageRating', 'ratingsCount', 'pageCount', 'language', 'Series',\n",
       "       'description'],\n",
       "      dtype='object')"
      ]
     },
     "execution_count": 34,
     "metadata": {},
     "output_type": "execute_result"
    }
   ],
   "source": [
    "df2.columns"
   ]
  },
  {
   "cell_type": "code",
   "execution_count": null,
   "id": "a08833c4-5330-43d2-b028-27252f135ca0",
   "metadata": {},
   "outputs": [],
   "source": [
    "df2 = df2.rename(columns={\n",
    "    \"title\": \"Title\",\n",
    "    \"authors\": \"Author\",\n",
    "    \"num_authors\": \"Num_Authors\",\n",
    "    \"publisher\": \"Publisher\",\n",
    "    \"year\": \"Year\",\n",
    "    \"categories\": \"Categories\",\n",
    "    \"averageRating\": \"Avg_Rating\",\n",
    "    \"ratingsCount\": \"Num_Ratings\",\n",
    "    \"pageCount\": \"Page_Count\",\n",
    "    \"language\": \"Language\",\n",
    "    \"Series\": \"Series\",\n",
    "    \"description\": \"Description\"\n",
    "})"
   ]
  },
  {
   "cell_type": "code",
   "execution_count": null,
   "id": "c748002b-be6f-4065-9295-9423bfd8a799",
   "metadata": {},
   "outputs": [],
   "source": [
    "df = pd.merge(df1, df2, on=\"Title\", how=\"outer\")\n",
    "df.head()"
   ]
  },
  {
   "cell_type": "code",
   "execution_count": 47,
   "id": "10c3acab-e6ff-425c-9de5-e0f05ce7c372",
   "metadata": {},
   "outputs": [
    {
     "data": {
      "text/plain": [
       "(1000, 17)"
      ]
     },
     "execution_count": 47,
     "metadata": {},
     "output_type": "execute_result"
    }
   ],
   "source": [
    "df.shape"
   ]
  },
  {
   "cell_type": "code",
   "execution_count": 48,
   "id": "8912d4a2-b0f7-40d8-946b-cd6f6d398f1e",
   "metadata": {},
   "outputs": [
    {
     "data": {
      "text/plain": [
       "language\n",
       "en    948\n",
       "de     51\n",
       "fr      1\n",
       "Name: count, dtype: int64"
      ]
     },
     "execution_count": 48,
     "metadata": {},
     "output_type": "execute_result"
    }
   ],
   "source": [
    "df['language'].value_counts()"
   ]
  },
  {
   "cell_type": "code",
   "execution_count": 49,
   "id": "5d6a577a-dded-4aff-bb7a-cd7080995332",
   "metadata": {},
   "outputs": [
    {
     "data": {
      "text/plain": [
       "(1000, 17)"
      ]
     },
     "execution_count": 49,
     "metadata": {},
     "output_type": "execute_result"
    }
   ],
   "source": [
    "df.drop_duplicates(inplace=True)\n",
    "df.dropna(subset=[\"Title\", \"Author\"], inplace=True)\n",
    "df.shape"
   ]
  },
  {
   "cell_type": "code",
   "execution_count": 50,
   "id": "3969bc6d-7972-4f5f-900a-a80491151650",
   "metadata": {},
   "outputs": [],
   "source": [
    "df.to_csv(\"books_clean_data.csv\", index=False)"
   ]
  },
  {
   "cell_type": "code",
   "execution_count": null,
   "id": "9baacfa0-3d50-47c6-8038-8e5e133f964e",
   "metadata": {},
   "outputs": [],
   "source": []
  }
 ],
 "metadata": {
  "kernelspec": {
   "display_name": "Python 3 (ipykernel)",
   "language": "python",
   "name": "python3"
  },
  "language_info": {
   "codemirror_mode": {
    "name": "ipython",
    "version": 3
   },
   "file_extension": ".py",
   "mimetype": "text/x-python",
   "name": "python",
   "nbconvert_exporter": "python",
   "pygments_lexer": "ipython3",
   "version": "3.12.5"
  }
 },
 "nbformat": 4,
 "nbformat_minor": 5
}
